{
 "cells": [
  {
   "cell_type": "code",
   "execution_count": 1,
   "metadata": {
    "collapsed": true
   },
   "outputs": [],
   "source": [
    "import numpy as np\n",
    "Sales = np.loadtxt('LemonadeStand.csv', delimiter = \",\")"
   ]
  },
  {
   "cell_type": "code",
   "execution_count": 2,
   "metadata": {},
   "outputs": [
    {
     "data": {
      "text/plain": [
       "array([[ 653.11,  168.  ],\n",
       "       [ 960.32,  132.  ],\n",
       "       [ 339.57,  162.  ],\n",
       "       [  17.72,   45.  ],\n",
       "       [ 125.06,  177.  ],\n",
       "       [ 526.6 ,   84.  ],\n",
       "       [ 676.59,  197.  ],\n",
       "       [  59.93,  158.  ],\n",
       "       [ 238.72,   72.  ],\n",
       "       [ 749.2 ,  164.  ],\n",
       "       [ 505.4 ,  188.  ],\n",
       "       [  52.88,  146.  ],\n",
       "       [ 149.28,   10.  ],\n",
       "       [ 312.62,   23.  ],\n",
       "       [ 337.1 ,  139.  ],\n",
       "       [ 201.05,   76.  ]])"
      ]
     },
     "execution_count": 2,
     "metadata": {},
     "output_type": "execute_result"
    }
   ],
   "source": [
    "Sales"
   ]
  },
  {
   "cell_type": "code",
   "execution_count": 3,
   "metadata": {
    "collapsed": true
   },
   "outputs": [],
   "source": [
    "RowItem=Sales.T"
   ]
  },
  {
   "cell_type": "code",
   "execution_count": 4,
   "metadata": {},
   "outputs": [
    {
     "data": {
      "text/plain": [
       "array([[ 653.11,  960.32,  339.57,   17.72,  125.06,  526.6 ,  676.59,\n",
       "          59.93,  238.72,  749.2 ,  505.4 ,   52.88,  149.28,  312.62,\n",
       "         337.1 ,  201.05],\n",
       "       [ 168.  ,  132.  ,  162.  ,   45.  ,  177.  ,   84.  ,  197.  ,\n",
       "         158.  ,   72.  ,  164.  ,  188.  ,  146.  ,   10.  ,   23.  ,\n",
       "         139.  ,   76.  ]])"
      ]
     },
     "execution_count": 4,
     "metadata": {},
     "output_type": "execute_result"
    }
   ],
   "source": [
    "RowItem"
   ]
  },
  {
   "cell_type": "code",
   "execution_count": 5,
   "metadata": {},
   "outputs": [
    {
     "data": {
      "text/plain": [
       "array([ 653.11,  960.32,  339.57,   17.72,  125.06,  526.6 ,  676.59,\n",
       "         59.93,  238.72,  749.2 ,  505.4 ,   52.88,  149.28,  312.62,\n",
       "        337.1 ,  201.05])"
      ]
     },
     "execution_count": 5,
     "metadata": {},
     "output_type": "execute_result"
    }
   ],
   "source": [
    "RowItem[0]"
   ]
  },
  {
   "cell_type": "code",
   "execution_count": 6,
   "metadata": {},
   "outputs": [
    {
     "data": {
      "text/plain": [
       "array([ 168.,  132.,  162.,   45.,  177.,   84.,  197.,  158.,   72.,\n",
       "        164.,  188.,  146.,   10.,   23.,  139.,   76.])"
      ]
     },
     "execution_count": 6,
     "metadata": {},
     "output_type": "execute_result"
    }
   ],
   "source": [
    "RowItem[1]"
   ]
  },
  {
   "cell_type": "code",
   "execution_count": 25,
   "metadata": {},
   "outputs": [
    {
     "data": {
      "text/plain": [
       "7846.1499999999996"
      ]
     },
     "execution_count": 25,
     "metadata": {},
     "output_type": "execute_result"
    }
   ],
   "source": [
    "Sales.sum()"
   ]
  },
  {
   "cell_type": "code",
   "execution_count": 21,
   "metadata": {},
   "outputs": [
    {
     "data": {
      "text/plain": [
       "245.19"
      ]
     },
     "execution_count": 21,
     "metadata": {},
     "output_type": "execute_result"
    }
   ],
   "source": [
    "round(Sales.mean(),2)"
   ]
  },
  {
   "cell_type": "code",
   "execution_count": 9,
   "metadata": {},
   "outputs": [
    {
     "data": {
      "text/plain": [
       "10.0"
      ]
     },
     "execution_count": 9,
     "metadata": {},
     "output_type": "execute_result"
    }
   ],
   "source": [
    "Sales.min()"
   ]
  },
  {
   "cell_type": "code",
   "execution_count": 10,
   "metadata": {},
   "outputs": [
    {
     "data": {
      "text/plain": [
       "960.32000000000005"
      ]
     },
     "execution_count": 10,
     "metadata": {},
     "output_type": "execute_result"
    }
   ],
   "source": [
    "Sales.max()"
   ]
  },
  {
   "cell_type": "code",
   "execution_count": 11,
   "metadata": {},
   "outputs": [
    {
     "data": {
      "text/plain": [
       "array([  821.11,  1092.32,   501.57,    62.72,   302.06,   610.6 ,\n",
       "         873.59,   217.93,   310.72,   913.2 ,   693.4 ,   198.88,\n",
       "         159.28,   335.62,   476.1 ,   277.05])"
      ]
     },
     "execution_count": 11,
     "metadata": {},
     "output_type": "execute_result"
    }
   ],
   "source": [
    "DaySales = RowItem[0] + RowItem[1]\n",
    "DaySales"
   ]
  },
  {
   "cell_type": "code",
   "execution_count": 13,
   "metadata": {
    "collapsed": true
   },
   "outputs": [],
   "source": [
    "bonus = np.where(DaySales > 500, 20 + .05 * DaySales, .05* DaySales )"
   ]
  },
  {
   "cell_type": "code",
   "execution_count": 14,
   "metadata": {},
   "outputs": [
    {
     "data": {
      "text/plain": [
       "array([ 61.0555,  74.616 ,  45.0785,   3.136 ,  15.103 ,  50.53  ,\n",
       "        63.6795,  10.8965,  15.536 ,  65.66  ,  54.67  ,   9.944 ,\n",
       "         7.964 ,  16.781 ,  23.805 ,  13.8525])"
      ]
     },
     "execution_count": 14,
     "metadata": {},
     "output_type": "execute_result"
    }
   ],
   "source": [
    "bonus"
   ]
  },
  {
   "cell_type": "code",
   "execution_count": 19,
   "metadata": {},
   "outputs": [
    {
     "data": {
      "text/plain": [
       "535.0"
      ]
     },
     "execution_count": 19,
     "metadata": {},
     "output_type": "execute_result"
    }
   ],
   "source": [
    "bonus.round().sum()"
   ]
  },
  {
   "cell_type": "code",
   "execution_count": 32,
   "metadata": {},
   "outputs": [
    {
     "data": {
      "text/plain": [
       "532.30999999999995"
      ]
     },
     "execution_count": 32,
     "metadata": {},
     "output_type": "execute_result"
    }
   ],
   "source": [
    "bonus.sum()"
   ]
  },
  {
   "cell_type": "code",
   "execution_count": 47,
   "metadata": {
    "collapsed": true
   },
   "outputs": [],
   "source": [
    "payroll = np.array(['Bess', 'Nancy', 'George','Bess', 'Nancy', 'George','Bess', 'Nancy', 'George','Bess', 'Nancy', 'George','Bess', 'Nancy', 'George','Bess'])"
   ]
  },
  {
   "cell_type": "code",
   "execution_count": 48,
   "metadata": {
    "collapsed": true
   },
   "outputs": [],
   "source": [
    "BessPay = np.where(payroll == 'Bess', 1, 0)\n",
    "NancyPay = np.where(payroll == 'Nancy', 1, 0)\n",
    "GeorgePay = np.where(payroll == \"George\", 1, 0)"
   ]
  },
  {
   "cell_type": "code",
   "execution_count": 49,
   "metadata": {},
   "outputs": [
    {
     "data": {
      "text/plain": [
       "array(['Bess', 'Nancy', 'George', 'Bess', 'Nancy', 'George', 'Bess',\n",
       "       'Nancy', 'George', 'Bess', 'Nancy', 'George', 'Bess', 'Nancy',\n",
       "       'George', 'Bess'], \n",
       "      dtype='<U6')"
      ]
     },
     "execution_count": 49,
     "metadata": {},
     "output_type": "execute_result"
    }
   ],
   "source": [
    "payroll"
   ]
  },
  {
   "cell_type": "code",
   "execution_count": 50,
   "metadata": {},
   "outputs": [
    {
     "data": {
      "text/plain": [
       "array([1, 0, 0, 1, 0, 0, 1, 0, 0, 1, 0, 0, 1, 0, 0, 1])"
      ]
     },
     "execution_count": 50,
     "metadata": {},
     "output_type": "execute_result"
    }
   ],
   "source": [
    "BessPay"
   ]
  },
  {
   "cell_type": "code",
   "execution_count": 57,
   "metadata": {
    "collapsed": true
   },
   "outputs": [],
   "source": [
    "BessSal = bonus * BessPay\n",
    "NancySal = bonus * NancyPay\n",
    "GeorgeSal = bonus * GeorgePay"
   ]
  },
  {
   "cell_type": "code",
   "execution_count": 61,
   "metadata": {},
   "outputs": [
    {
     "data": {
      "text/plain": [
       "array([ 61.0555,   0.    ,   0.    ,   3.136 ,   0.    ,   0.    ,\n",
       "        63.6795,   0.    ,   0.    ,  65.66  ,   0.    ,   0.    ,\n",
       "         7.964 ,   0.    ,   0.    ,  13.8525])"
      ]
     },
     "execution_count": 61,
     "metadata": {},
     "output_type": "execute_result"
    }
   ],
   "source": [
    "BessSal"
   ]
  },
  {
   "cell_type": "code",
   "execution_count": 58,
   "metadata": {},
   "outputs": [
    {
     "name": "stdout",
     "output_type": "stream",
     "text": [
      "Bess:  215.3475\n",
      "Nancy:  172.0665\n",
      "George:  5492.28051925\n"
     ]
    }
   ],
   "source": [
    "print(\"Bess: \", BessSal.sum())\n",
    "print(\"Nancy: \", NancySal.sum())\n",
    "print(\"George: \", GeorgeSal.sum())\n"
   ]
  },
  {
   "cell_type": "code",
   "execution_count": 65,
   "metadata": {
    "collapsed": true
   },
   "outputs": [],
   "source": [
    "PayRoll = np.array([BessSal, NancySal, GeorgeSal])"
   ]
  },
  {
   "cell_type": "code",
   "execution_count": 66,
   "metadata": {},
   "outputs": [
    {
     "data": {
      "text/plain": [
       "array([[   61.0555    ,     0.        ,     0.        ,     3.136     ,\n",
       "            0.        ,     0.        ,    63.6795    ,     0.        ,\n",
       "            0.        ,    65.66      ,     0.        ,     0.        ,\n",
       "            7.964     ,     0.        ,     0.        ,    13.8525    ],\n",
       "       [    0.        ,    74.616     ,     0.        ,     0.        ,\n",
       "           15.103     ,     0.        ,     0.        ,    10.8965    ,\n",
       "            0.        ,     0.        ,    54.67      ,     0.        ,\n",
       "            0.        ,    16.781     ,     0.        ,     0.        ],\n",
       "       [    0.        ,     0.        ,  2032.07116225,     0.        ,\n",
       "            0.        ,  2553.2809    ,     0.        ,     0.        ,\n",
       "          241.367296  ,     0.        ,     0.        ,    98.883136  ,\n",
       "            0.        ,     0.        ,   566.678025  ,     0.        ]])"
      ]
     },
     "execution_count": 66,
     "metadata": {},
     "output_type": "execute_result"
    }
   ],
   "source": [
    "PayRoll"
   ]
  },
  {
   "cell_type": "code",
   "execution_count": 69,
   "metadata": {
    "collapsed": true
   },
   "outputs": [],
   "source": [
    "a = np.array([1,2,3])\n",
    "b = np.array([10,9,8])\n",
    "ab = np.array([a,b])"
   ]
  },
  {
   "cell_type": "code",
   "execution_count": 70,
   "metadata": {},
   "outputs": [
    {
     "data": {
      "text/plain": [
       "array([[ 1,  2,  3],\n",
       "       [10,  9,  8]])"
      ]
     },
     "execution_count": 70,
     "metadata": {},
     "output_type": "execute_result"
    }
   ],
   "source": [
    "ab\n"
   ]
  },
  {
   "cell_type": "code",
   "execution_count": 71,
   "metadata": {
    "collapsed": true
   },
   "outputs": [],
   "source": [
    "np.save('PayRoll', PayRoll)"
   ]
  },
  {
   "cell_type": "code",
   "execution_count": null,
   "metadata": {
    "collapsed": true
   },
   "outputs": [],
   "source": []
  }
 ],
 "metadata": {
  "kernelspec": {
   "display_name": "Python 3",
   "language": "python",
   "name": "python3"
  },
  "language_info": {
   "codemirror_mode": {
    "name": "ipython",
    "version": 3
   },
   "file_extension": ".py",
   "mimetype": "text/x-python",
   "name": "python",
   "nbconvert_exporter": "python",
   "pygments_lexer": "ipython3",
   "version": "3.6.1"
  }
 },
 "nbformat": 4,
 "nbformat_minor": 2
}
