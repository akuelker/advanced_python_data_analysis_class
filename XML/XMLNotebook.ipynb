{
 "cells": [
  {
   "cell_type": "code",
   "execution_count": 5,
   "metadata": {},
   "outputs": [
    {
     "name": "stdout",
     "output_type": "stream",
     "text": [
      "C:\\Users\\st98\\Python3\\Advanced Python Programming Data Analysis\\Programming\\XML\n",
      "C:\\CETC_Catalog.xml\n"
     ]
    }
   ],
   "source": [
    "%run WriteXML.py"
   ]
  },
  {
   "cell_type": "code",
   "execution_count": 6,
   "metadata": {},
   "outputs": [
    {
     "name": "stdout",
     "output_type": "stream",
     "text": [
      "id : 1\n",
      "name :  Python Hoodie> \n",
      "description :  This hoodie will keep your code warm and fuzzy.\n",
      "cost : $49.95\n",
      "shipping : $4.00\n",
      "\n",
      "id : 2\n",
      "name :  Python T-Shirt > \n",
      "description :  This shirt will make you look cool while you code.\n",
      "cost : $19.95\n",
      "shipping : $4.00\n",
      "\n",
      "id : 3\n",
      "name :  Python Baseball Cap> \n",
      "description :  Whatever you do, don't wear it backwards. \n",
      "\t\t\tPeople won't know what your favorite\n",
      "\t\t\tprogramming language is if you do.\n",
      "cost : $19.95\n",
      "shipping : $4.00\n",
      "\n",
      "id : 4\n",
      "name : Python Pants\n",
      "description : These pants will surely help you code like crazy!\n",
      "cost : 39.95\n",
      "shipping : 4.00\n",
      "\n",
      "SKU : 75770\n",
      "name : Bradleigh\n",
      "description : Sweet Girl\n",
      "cost : 9058.8\n",
      "inStore : no\n",
      "\n"
     ]
    }
   ],
   "source": [
    "%run ProductListing.py"
   ]
  },
  {
   "cell_type": "code",
   "execution_count": 7,
   "metadata": {},
   "outputs": [
    {
     "name": "stdout",
     "output_type": "stream",
     "text": [
      "<?xml version=\"1.0\" ?>\n",
      "<top>\n",
      "  <!--Generated for PyMOTW-->\n",
      "  <child>This child contains text.</child>\n",
      "  <child_with_tail>This child has text.</child_with_tail>\n",
      "  And &quot;tail&quot; text.\n",
      "  <child_with_entity_ref>This &amp; that</child_with_entity_ref>\n",
      "</top>\n",
      "\n"
     ]
    }
   ],
   "source": [
    "%run ElementTree_create_pretty.py\n"
   ]
  },
  {
   "cell_type": "code",
   "execution_count": null,
   "metadata": {
    "collapsed": true
   },
   "outputs": [],
   "source": []
  }
 ],
 "metadata": {
  "kernelspec": {
   "display_name": "Python 3",
   "language": "python",
   "name": "python3"
  },
  "language_info": {
   "codemirror_mode": {
    "name": "ipython",
    "version": 3
   },
   "file_extension": ".py",
   "mimetype": "text/x-python",
   "name": "python",
   "nbconvert_exporter": "python",
   "pygments_lexer": "ipython3",
   "version": "3.6.1"
  }
 },
 "nbformat": 4,
 "nbformat_minor": 2
}
