{
 "cells": [
  {
   "cell_type": "code",
   "execution_count": 8,
   "metadata": {
    "collapsed": true
   },
   "outputs": [],
   "source": [
    "%run HelloWorldHTML.py"
   ]
  },
  {
   "cell_type": "code",
   "execution_count": 22,
   "metadata": {},
   "outputs": [
    {
     "name": "stdout",
     "output_type": "stream",
     "text": [
      "YAY! http://www.umsl.edu/index.html\n",
      "YAY! http://www.cetc.umsl.edu/\n",
      "YAY! http://www.cetc.umsl.edu/regonline.html\n",
      "YAY! http://www.cetc.umsl.edu/advice.html\n",
      "YAY! http://www.cetc.umsl.edu/catalog/toctable.html\n",
      "YAY! http://www.cetc.umsl.edu/webfacts.html\n",
      "YAY! http://www.cetc.umsl.edu/email_info.html\n",
      "YAY! http://www.cetc.umsl.edu/catalog/access.html\n",
      "YAY! http://www.cetc.umsl.edu/catalog/accessvba.html\n",
      "YAY! http://www.cetc.umsl.edu/catalog/acrobat.html\n",
      "YAY! http://www.cetc.umsl.edu/catalog/aftereffects.html\n",
      "YAY! http://www.cetc.umsl.edu/catalog/csharp.html\n",
      "YAY! http://www.cetc.umsl.edu/catalog/cplusplus.html\n",
      "YAY! http://www.cetc.umsl.edu/catalog/captivate.html\n",
      "YAY! http://www.cetc.umsl.edu/catalog/crystalrep.html\n",
      "YAY! http://www.cetc.umsl.edu/catalog/css.html\n",
      "YAY! http://www.cetc.umsl.edu/catalog/dpdesign.html\n",
      "YAY! http://www.cetc.umsl.edu/catalog/excel.html\n",
      "YAY! http://www.cetc.umsl.edu/catalog/excelcharts.html\n",
      "YAY! http://www.cetc.umsl.edu/catalog/exceldata.html\n",
      "YAY! http://www.cetc.umsl.edu/catalog/pivottable.html\n",
      "YAY! http://www.cetc.umsl.edu/catalog/excelvba.html\n",
      "YAY! http://www.cetc.umsl.edu/catalog/html.html\n",
      "YAY! http://www.cetc.umsl.edu/catalog/illustrator.html\n",
      "YAY! http://www.cetc.umsl.edu/catalog/indesign.html\n",
      "YAY! http://www.cetc.umsl.edu/catalog/javaprog.html\n",
      "YAY! http://www.cetc.umsl.edu/catalog/javascript.html\n",
      "YAY! http://www.cetc.umsl.edu/catalog/office365.html\n",
      "YAY! http://www.cetc.umsl.edu/catalog/oracle.html\n",
      "YAY! http://www.cetc.umsl.edu/catalog/outlook.html\n",
      "YAY! http://www.cetc.umsl.edu/catalog/photoshop.html\n",
      "YAY! http://www.cetc.umsl.edu/catalog/powerbi.html\n",
      "YAY! http://www.cetc.umsl.edu/catalog/powerpoint.html\n",
      "YAY! http://www.cetc.umsl.edu/catalog/powershell.html\n",
      "YAY! http://www.cetc.umsl.edu/catalog/premiere.html\n",
      "YAY! http://www.cetc.umsl.edu/catalog/progconcept.html\n",
      "YAY! http://www.cetc.umsl.edu/catalog/project.html\n",
      "YAY! http://www.cetc.umsl.edu/catalog/publisher.html\n",
      "YAY! http://www.cetc.umsl.edu/catalog/python.html\n",
      "YAY! http://www.cetc.umsl.edu/catalog/rstudio.html\n",
      "YAY! http://www.cetc.umsl.edu/catalog/respdesign.html\n",
      "YAY! http://www.cetc.umsl.edu/catalog/sharepoint.html\n",
      "YAY! http://www.cetc.umsl.edu/catalog/shptdes2013.html\n",
      "YAY! http://www.cetc.umsl.edu/catalog/sqlintegrate.html\n",
      "YAY! http://www.cetc.umsl.edu/catalog/sql.html\n",
      "YAY! http://www.cetc.umsl.edu/catalog/transactsql.html\n",
      "YAY! http://www.cetc.umsl.edu/catalog/sqlreports.html\n",
      "YAY! http://www.cetc.umsl.edu/catalog/sqlservadm.html\n",
      "YAY! http://www.cetc.umsl.edu/catalog/sqlservdb.html\n",
      "YAY! http://www.cetc.umsl.edu/catalog/tableau.html\n",
      "YAY! http://www.cetc.umsl.edu/catalog/unix.html\n",
      "YAY! http://www.cetc.umsl.edu/catalog/visio.html\n",
      "YAY! http://www.cetc.umsl.edu/catalog/windows10.html\n",
      "YAY! http://www.cetc.umsl.edu/catalog/word.html\n",
      "YAY! http://www.cetc.umsl.edu/catalog/wordpress.html\n",
      "YAY! http://www.cetc.umsl.edu\n",
      "YAY! http://www.cetc.umsl.edu/catalog/toctable.html\n",
      "YAY! http://www.cetc.umsl.edu/catalog/cs301.pdf\n",
      "YAY! http://www.cetc.umsl.edu/about.html?tab=Instructors#BArrowsmith\n",
      "YAY! http://www.cetc.umsl.edu/about.html?tab=Instructors#BBarry\n",
      "YAY! http://www.cetc.umsl.edu/about.html?tab=Instructors#BBarry\n",
      "YAY! http://www.cetc.umsl.edu/about.html?tab=Instructors#BBarry\n",
      "YAY! http://www.cetc.umsl.edu/about.html?tab=Instructors#BBarry\n",
      "YAY! http://www.cetc.umsl.edu/about.html?tab=Instructors#BBarry\n",
      "YAY! http://www.cetc.umsl.edu/about.html?tab=Instructors#BBarry\n",
      "YAY! http://www.cetc.umsl.edu/about.html?tab=Instructors#BBarry\n",
      "YAY! http://www.cetc.umsl.edu/catalog/cs302.pdf\n",
      "YAY! http://www.cetc.umsl.edu/about.html?tab=Instructors#BArrowsmith\n",
      "YAY! http://www.cetc.umsl.edu/about.html?tab=Instructors#BBarry\n",
      "YAY! http://www.cetc.umsl.edu/about.html?tab=Instructors#BBarry\n",
      "YAY! http://www.cetc.umsl.edu/about.html?tab=Instructors#BBarry\n",
      "YAY! http://www.cetc.umsl.edu/about.html?tab=Instructors#BBarry\n",
      "YAY! http://www.cetc.umsl.edu/about.html?tab=Instructors#BBarry\n",
      "YAY! http://www.cetc.umsl.edu/about.html?tab=Instructors#BBarry\n",
      "YAY! http://www.cetc.umsl.edu/about.html?tab=Instructors#BBarry\n",
      "YAY! http://www.cetc.umsl.edu/catalog/cs303.pdf\n",
      "YAY! http://www.cetc.umsl.edu/about.html?tab=Instructors#BArrowsmith\n",
      "YAY! http://www.cetc.umsl.edu/about.html?tab=Instructors#BBarry\n",
      "YAY! http://www.cetc.umsl.edu/about.html?tab=Instructors#BBarry\n",
      "YAY! http://www.cetc.umsl.edu/about.html?tab=Instructors#BBarry\n",
      "YAY! http://www.cetc.umsl.edu/catalog/cs318.pdf\n",
      "YAY! http://www.cetc.umsl.edu/about.html?tab=Instructors#BBarry\n",
      "YAY! http://www.cetc.umsl.edu/about.html?tab=Instructors#BBarry\n",
      "YAY! http://www.cetc.umsl.edu/about.html?tab=Instructors#BBarry\n",
      "YAY! http://www.cetc.umsl.edu/catalog/cs319.pdf\n",
      "YAY! http://www.cetc.umsl.edu/about.html?tab=Instructors#BBarry\n",
      "YAY! http://www.cetc.umsl.edu/about.html?tab=Instructors#BBarry\n",
      "YAY! http://www.cetc.umsl.edu/about.html?tab=Instructors#BBarry\n",
      "YAY! http://www.cetc.umsl.edu/catalog/transactsql.html\n",
      "YAY! http://www.cetc.umsl.edu/catalog/sqlreports.html\n",
      "YAY! http://www.cetc.umsl.edu/catalog/sqlintegrate.html\n",
      "YAY! http://www.cetc.umsl.edu/catalog/sqlservadm.html\n",
      "YAY! http://www.cetc.umsl.edu/catalog/sqlservdb.html\n",
      "YAY! http://www.cetc.umsl.edu/catalog/tableau.html\n",
      "YAY! http://www.cetc.umsl.edu/catalog/crystalrep.html\n",
      "YAY! http://www.cetc.umsl.edu/catalog/powerbi.html\n",
      "YAY! http://www.cetc.umsl.edu/catalog/rstudio.html\n",
      "YAY! http://www.cetc.umsl.edu/regonline.html\n",
      "YAY! http://www.cetc.umsl.edu/catalog/transactsql.html\n",
      "YAY! http://www.cetc.umsl.edu/index.html\n",
      "YAY! http://www.cetc.umsl.edu/index.html\n",
      "YAY! http://www.cetc.umsl.edu/locations.html\n",
      "YAY! http://www.cetc.umsl.edu/email_info.html\n",
      "YAY! http://www.cetc.umsl.edu/register.html\n",
      "YAY! http://www.cetc.umsl.edu/stdnserv.html?tab=CEU\n",
      "YAY! http://www.cetc.umsl.edu/table_contents.html\n",
      "YAY! http://www.cetc.umsl.edu/about.html\n",
      "YAY! http://www.cetc.umsl.edu/catalog/toctable.html\n",
      "YAY! http://www.cetc.umsl.edu/catalog.pdf\n",
      "YAY! http://www.cetc.umsl.edu/webfacts.html\n",
      "YAY! http://www.cetc.umsl.edu/advice.html\n",
      "YAY! http://www.cetc.umsl.edu/version_list.html\n",
      "YAY! http://www.cetc.umsl.edu/calinfo.html\n",
      "YAY! http://www.cetc.umsl.edu/stdnserv.html\n",
      "YAY! http://www.cetc.umsl.edu/whats_new.html\n",
      "YAY! http://www.cetc.umsl.edu/group.html\n",
      "YAY! http://www.cetc.umsl.edu/rental.html\n",
      "YAY! http://www.cetc.umsl.edu/purchase.html\n",
      "YAY! http://www.cetc.umsl.edu/printforms.html\n"
     ]
    }
   ],
   "source": [
    "%run WebScraping.py"
   ]
  },
  {
   "cell_type": "code",
   "execution_count": null,
   "metadata": {
    "collapsed": true
   },
   "outputs": [],
   "source": []
  },
  {
   "cell_type": "code",
   "execution_count": null,
   "metadata": {
    "collapsed": true
   },
   "outputs": [],
   "source": []
  }
 ],
 "metadata": {
  "kernelspec": {
   "display_name": "Python 3",
   "language": "python",
   "name": "python3"
  },
  "language_info": {
   "codemirror_mode": {
    "name": "ipython",
    "version": 3
   },
   "file_extension": ".py",
   "mimetype": "text/x-python",
   "name": "python",
   "nbconvert_exporter": "python",
   "pygments_lexer": "ipython3",
   "version": "3.6.1"
  }
 },
 "nbformat": 4,
 "nbformat_minor": 2
}
