{
 "cells": [
  {
   "cell_type": "code",
   "execution_count": 7,
   "metadata": {},
   "outputs": [
    {
     "name": "stdout",
     "output_type": "stream",
     "text": [
      "Broken links: []\n",
      "Working links: ['http://www.umsl.edu/index.html', 'http://www.cetc.umsl.edu/', 'http://www.cetc.umsl.edu/regonline.html', 'http://www.cetc.umsl.edu/advice.html', 'http://www.cetc.umsl.edu/catalog/toctable.html', 'http://www.cetc.umsl.edu/webfacts.html', 'http://www.cetc.umsl.edu/email_info.html', 'http://www.cetc.umsl.edu/catalog/access.html', 'http://www.cetc.umsl.edu/catalog/accessvba.html', 'http://www.cetc.umsl.edu/catalog/aftereffects.html', 'http://www.cetc.umsl.edu/catalog/csharp.html', 'http://www.cetc.umsl.edu/catalog/captivate.html', 'http://www.cetc.umsl.edu/catalog/crystalrep.html', 'http://www.cetc.umsl.edu/catalog/css.html', 'http://www.cetc.umsl.edu/catalog/dpdesign.html', 'http://www.cetc.umsl.edu/catalog/excel.html', 'http://www.cetc.umsl.edu/catalog/excelcharts.html', 'http://www.cetc.umsl.edu/catalog/exceldata.html', 'http://www.cetc.umsl.edu/catalog/pivottable.html', 'http://www.cetc.umsl.edu/catalog/excelvba.html', 'http://www.cetc.umsl.edu/catalog/html.html', 'http://www.cetc.umsl.edu/catalog/illustrator.html', 'http://www.cetc.umsl.edu/catalog/indesign.html', 'http://www.cetc.umsl.edu/catalog/ipad.html', 'http://www.cetc.umsl.edu/catalog/javaprog.html', 'http://www.cetc.umsl.edu/catalog/javascript.html', 'http://www.cetc.umsl.edu/catalog/office365.html', 'http://www.cetc.umsl.edu/catalog/oracle.html', 'http://www.cetc.umsl.edu/catalog/outlook.html', 'http://www.cetc.umsl.edu/catalog/photoshop.html', 'http://www.cetc.umsl.edu/catalog/powerbi.html', 'http://www.cetc.umsl.edu/catalog/powerpoint.html', 'http://www.cetc.umsl.edu/catalog/powershell.html', 'http://www.cetc.umsl.edu/catalog/premiere.html', 'http://www.cetc.umsl.edu/catalog/progconcept.html', 'http://www.cetc.umsl.edu/catalog/project.html', 'http://www.cetc.umsl.edu/catalog/python.html', 'http://www.cetc.umsl.edu/catalog/quickbooks.html', 'http://www.cetc.umsl.edu/catalog/rstudio.html', 'http://www.cetc.umsl.edu/catalog/respdesign.html', 'http://www.cetc.umsl.edu/catalog/sharepoint.html', 'http://www.cetc.umsl.edu/catalog/shptdes2013.html', 'http://www.cetc.umsl.edu/catalog/sqlintegrate.html', 'http://www.cetc.umsl.edu/catalog/sql.html', 'http://www.cetc.umsl.edu/catalog/transactsql.html', 'http://www.cetc.umsl.edu/catalog/sqlreports.html', 'http://www.cetc.umsl.edu/catalog/sqlservadm.html', 'http://www.cetc.umsl.edu/catalog/tableau.html', 'http://www.cetc.umsl.edu/catalog/unix.html', 'http://www.cetc.umsl.edu/catalog/visio.html', 'http://www.cetc.umsl.edu/catalog/windows10.html', 'http://www.cetc.umsl.edu/catalog/word.html', 'http://www.cetc.umsl.edu/catalog/wordpress.html', 'http://www.cetc.umsl.edu', 'http://www.cetc.umsl.edu/catalog/toctable.html', 'http://www.cetc.umsl.edu/catalog/cs301.pdf', 'http://www.cetc.umsl.edu/about.html?tab=Instructors#MRatliff', 'http://www.cetc.umsl.edu/about.html?tab=Instructors#BArrowsmith', 'http://www.cetc.umsl.edu/about.html?tab=Instructors#MRatliff', 'http://www.cetc.umsl.edu/about.html?tab=Instructors#BBarry', 'http://www.cetc.umsl.edu/about.html?tab=Instructors#BArrowsmith', 'http://www.cetc.umsl.edu/about.html?tab=Instructors#BBarry', 'http://www.cetc.umsl.edu/about.html?tab=Instructors#BArrowsmith', 'http://www.cetc.umsl.edu/about.html?tab=Instructors#BBarry', 'http://www.cetc.umsl.edu/catalog/cs302.pdf', 'http://www.cetc.umsl.edu/about.html?tab=Instructors#MRatliff', 'http://www.cetc.umsl.edu/about.html?tab=Instructors#BArrowsmith', 'http://www.cetc.umsl.edu/about.html?tab=Instructors#MRatliff', 'http://www.cetc.umsl.edu/about.html?tab=Instructors#BBarry', 'http://www.cetc.umsl.edu/about.html?tab=Instructors#BArrowsmith', 'http://www.cetc.umsl.edu/about.html?tab=Instructors#BArrowsmith', 'http://www.cetc.umsl.edu/about.html?tab=Instructors#MRatliff', 'http://www.cetc.umsl.edu/about.html?tab=Instructors#BBarry', 'http://www.cetc.umsl.edu/catalog/cs303.pdf', 'http://www.cetc.umsl.edu/about.html?tab=Instructors#BArrowsmith', 'http://www.cetc.umsl.edu/about.html?tab=Instructors#BBarry', 'http://www.cetc.umsl.edu/about.html?tab=Instructors#BArrowsmith', 'http://www.cetc.umsl.edu/catalog/cs318.pdf', 'http://www.cetc.umsl.edu/about.html?tab=Instructors#BArrowsmith', 'http://www.cetc.umsl.edu/about.html?tab=Instructors#BBarry', 'http://www.cetc.umsl.edu/about.html?tab=Instructors#BBarry', 'http://www.cetc.umsl.edu/catalog/cs319.pdf', 'http://www.cetc.umsl.edu/about.html?tab=Instructors#BArrowsmith', 'http://www.cetc.umsl.edu/about.html?tab=Instructors#BBarry', 'http://www.cetc.umsl.edu/about.html?tab=Instructors#BBarry', 'http://www.cetc.umsl.edu/catalog/transactsql.html', 'http://www.cetc.umsl.edu/catalog/sqlreports.html', 'http://www.cetc.umsl.edu/catalog/sqlintegrate.html', 'http://www.cetc.umsl.edu/catalog/sqlservadm.html', 'http://www.cetc.umsl.edu/catalog/sqlservdb.html', 'http://www.cetc.umsl.edu/catalog/tableau.html', 'http://www.cetc.umsl.edu/catalog/crystalrep.html', 'http://www.cetc.umsl.edu/catalog/powerbi.html', 'http://www.cetc.umsl.edu/catalog/rstudio.html', 'http://www.cetc.umsl.edu/regonline.html', 'http://www.cetc.umsl.edu/catalog/transactsql.html', 'http://www.cetc.umsl.edu/index.html', 'http://www.cetc.umsl.edu/index.html', 'http://www.cetc.umsl.edu/locations.html', 'http://www.cetc.umsl.edu/email_info.html', 'http://www.cetc.umsl.edu/register.html', 'http://www.cetc.umsl.edu/stdnserv.html?tab=CEU', 'http://www.cetc.umsl.edu/table_contents.html', 'http://www.cetc.umsl.edu/about.html', 'http://www.cetc.umsl.edu/catalog/toctable.html', 'http://www.cetc.umsl.edu/catalog.pdf', 'http://www.cetc.umsl.edu/webfacts.html', 'http://www.cetc.umsl.edu/advice.html', 'http://www.cetc.umsl.edu/version_list.html', 'http://www.cetc.umsl.edu/calinfo.html', 'http://www.cetc.umsl.edu/stdnserv.html', 'http://www.cetc.umsl.edu/whats_new.html', 'http://www.cetc.umsl.edu/group.html', 'http://www.cetc.umsl.edu/rental.html', 'http://www.cetc.umsl.edu/purchase.html', 'http://www.cetc.umsl.edu/printforms.html']\n"
     ]
    }
   ],
   "source": [
    "%run GettingHTML.py"
   ]
  },
  {
   "cell_type": "code",
   "execution_count": 22,
   "metadata": {},
   "outputs": [
    {
     "name": "stdout",
     "output_type": "stream",
     "text": [
      "['E9299', 'E9300', 'E9325', 'E9326', 'E9327', 'E9328', 'E9329', 'E9384', 'E9385', 'E9406', 'E9407', 'E9412', 'E9413', 'E9421', 'E9422', 'E9423', 'E9477', 'E9478', 'E9479', 'E9484', 'E9485', 'E9509', 'E9510', 'E9536', 'E9537']\n",
      "Number of classes taught on this page:  25\n"
     ]
    }
   ],
   "source": [
    "%run ScrapingClassID.py"
   ]
  },
  {
   "cell_type": "code",
   "execution_count": null,
   "metadata": {
    "collapsed": true
   },
   "outputs": [],
   "source": []
  }
 ],
 "metadata": {
  "kernelspec": {
   "display_name": "Python 3",
   "language": "python",
   "name": "python3"
  },
  "language_info": {
   "codemirror_mode": {
    "name": "ipython",
    "version": 3
   },
   "file_extension": ".py",
   "mimetype": "text/x-python",
   "name": "python",
   "nbconvert_exporter": "python",
   "pygments_lexer": "ipython3",
   "version": "3.6.1"
  }
 },
 "nbformat": 4,
 "nbformat_minor": 2
}
