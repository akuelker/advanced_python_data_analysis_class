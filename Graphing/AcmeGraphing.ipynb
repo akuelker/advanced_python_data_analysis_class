{
 "cells": [
  {
   "cell_type": "code",
   "execution_count": 1,
   "metadata": {},
   "outputs": [
    {
     "data": {
      "text/html": [
       "<div>\n",
       "<style>\n",
       "    .dataframe thead tr:only-child th {\n",
       "        text-align: right;\n",
       "    }\n",
       "\n",
       "    .dataframe thead th {\n",
       "        text-align: left;\n",
       "    }\n",
       "\n",
       "    .dataframe tbody tr th {\n",
       "        vertical-align: top;\n",
       "    }\n",
       "</style>\n",
       "<table border=\"1\" class=\"dataframe\">\n",
       "  <thead>\n",
       "    <tr style=\"text-align: right;\">\n",
       "      <th></th>\n",
       "      <th>District</th>\n",
       "      <th>Sale</th>\n",
       "      <th>Date</th>\n",
       "    </tr>\n",
       "    <tr>\n",
       "      <th>Invoice</th>\n",
       "      <th></th>\n",
       "      <th></th>\n",
       "      <th></th>\n",
       "    </tr>\n",
       "  </thead>\n",
       "  <tbody>\n",
       "    <tr>\n",
       "      <th>A4032</th>\n",
       "      <td>South</td>\n",
       "      <td>3878</td>\n",
       "      <td>1/29/2018</td>\n",
       "    </tr>\n",
       "    <tr>\n",
       "      <th>A2981</th>\n",
       "      <td>North</td>\n",
       "      <td>1345</td>\n",
       "      <td>1/29/2018</td>\n",
       "    </tr>\n",
       "    <tr>\n",
       "      <th>A1070</th>\n",
       "      <td>East</td>\n",
       "      <td>2419</td>\n",
       "      <td>1/29/2018</td>\n",
       "    </tr>\n",
       "  </tbody>\n",
       "</table>\n",
       "</div>"
      ],
      "text/plain": [
       "        District  Sale       Date\n",
       "Invoice                          \n",
       "A4032      South  3878  1/29/2018\n",
       "A2981      North  1345  1/29/2018\n",
       "A1070       East  2419  1/29/2018"
      ]
     },
     "execution_count": 1,
     "metadata": {},
     "output_type": "execute_result"
    }
   ],
   "source": [
    "import numpy as np\n",
    "import pandas as pd\n",
    "acmeIndex = ['Invoice']\n",
    "acmeColNames = ['Invoice', 'District', 'Sale','Date']\n",
    "salesAcme = pd.read_csv('AcmeWidgetSales.csv',\n",
    "                        header = 0,\n",
    "                        index_col = acmeIndex,\n",
    "                       names = acmeColNames)\n",
    "salesAcme.head(3)\n",
    "\n"
   ]
  },
  {
   "cell_type": "code",
   "execution_count": 2,
   "metadata": {},
   "outputs": [
    {
     "data": {
      "text/html": [
       "<div>\n",
       "<style>\n",
       "    .dataframe thead tr:only-child th {\n",
       "        text-align: right;\n",
       "    }\n",
       "\n",
       "    .dataframe thead th {\n",
       "        text-align: left;\n",
       "    }\n",
       "\n",
       "    .dataframe tbody tr th {\n",
       "        vertical-align: top;\n",
       "    }\n",
       "</style>\n",
       "<table border=\"1\" class=\"dataframe\">\n",
       "  <thead>\n",
       "    <tr style=\"text-align: right;\">\n",
       "      <th></th>\n",
       "      <th></th>\n",
       "      <th>Sale</th>\n",
       "    </tr>\n",
       "    <tr>\n",
       "      <th>Date</th>\n",
       "      <th>District</th>\n",
       "      <th></th>\n",
       "    </tr>\n",
       "  </thead>\n",
       "  <tbody>\n",
       "    <tr>\n",
       "      <th rowspan=\"3\" valign=\"top\">1/29/2018</th>\n",
       "      <th>East</th>\n",
       "      <td>8140</td>\n",
       "    </tr>\n",
       "    <tr>\n",
       "      <th>North</th>\n",
       "      <td>2462</td>\n",
       "    </tr>\n",
       "    <tr>\n",
       "      <th>South</th>\n",
       "      <td>6223</td>\n",
       "    </tr>\n",
       "    <tr>\n",
       "      <th rowspan=\"3\" valign=\"top\">1/30/2018</th>\n",
       "      <th>East</th>\n",
       "      <td>6362</td>\n",
       "    </tr>\n",
       "    <tr>\n",
       "      <th>North</th>\n",
       "      <td>15266</td>\n",
       "    </tr>\n",
       "    <tr>\n",
       "      <th>South</th>\n",
       "      <td>6941</td>\n",
       "    </tr>\n",
       "  </tbody>\n",
       "</table>\n",
       "</div>"
      ],
      "text/plain": [
       "                     Sale\n",
       "Date      District       \n",
       "1/29/2018 East       8140\n",
       "          North      2462\n",
       "          South      6223\n",
       "1/30/2018 East       6362\n",
       "          North     15266\n",
       "          South      6941"
      ]
     },
     "execution_count": 2,
     "metadata": {},
     "output_type": "execute_result"
    }
   ],
   "source": [
    "districts = salesAcme.groupby(['Date', 'District']).sum()\n",
    "districts.head(6)"
   ]
  },
  {
   "cell_type": "code",
   "execution_count": 3,
   "metadata": {},
   "outputs": [
    {
     "data": {
      "text/html": [
       "<div>\n",
       "<style>\n",
       "    .dataframe thead tr:only-child th {\n",
       "        text-align: right;\n",
       "    }\n",
       "\n",
       "    .dataframe thead th {\n",
       "        text-align: left;\n",
       "    }\n",
       "\n",
       "    .dataframe tbody tr th {\n",
       "        vertical-align: top;\n",
       "    }\n",
       "</style>\n",
       "<table border=\"1\" class=\"dataframe\">\n",
       "  <thead>\n",
       "    <tr>\n",
       "      <th></th>\n",
       "      <th colspan=\"4\" halign=\"left\">Sale</th>\n",
       "    </tr>\n",
       "    <tr>\n",
       "      <th>District</th>\n",
       "      <th>East</th>\n",
       "      <th>North</th>\n",
       "      <th>South</th>\n",
       "      <th>West</th>\n",
       "    </tr>\n",
       "    <tr>\n",
       "      <th>Date</th>\n",
       "      <th></th>\n",
       "      <th></th>\n",
       "      <th></th>\n",
       "      <th></th>\n",
       "    </tr>\n",
       "  </thead>\n",
       "  <tbody>\n",
       "    <tr>\n",
       "      <th>1/29/2018</th>\n",
       "      <td>8140.0</td>\n",
       "      <td>2462.0</td>\n",
       "      <td>6223.0</td>\n",
       "      <td>NaN</td>\n",
       "    </tr>\n",
       "    <tr>\n",
       "      <th>1/30/2018</th>\n",
       "      <td>6362.0</td>\n",
       "      <td>15266.0</td>\n",
       "      <td>6941.0</td>\n",
       "      <td>11434.0</td>\n",
       "    </tr>\n",
       "    <tr>\n",
       "      <th>1/31/2018</th>\n",
       "      <td>7058.0</td>\n",
       "      <td>26040.0</td>\n",
       "      <td>9016.0</td>\n",
       "      <td>4987.0</td>\n",
       "    </tr>\n",
       "    <tr>\n",
       "      <th>2/1/2018</th>\n",
       "      <td>17680.0</td>\n",
       "      <td>17307.0</td>\n",
       "      <td>16925.0</td>\n",
       "      <td>12909.0</td>\n",
       "    </tr>\n",
       "    <tr>\n",
       "      <th>2/2/2018</th>\n",
       "      <td>14966.0</td>\n",
       "      <td>6706.0</td>\n",
       "      <td>6624.0</td>\n",
       "      <td>11888.0</td>\n",
       "    </tr>\n",
       "    <tr>\n",
       "      <th>2/3/2018</th>\n",
       "      <td>23177.0</td>\n",
       "      <td>23387.0</td>\n",
       "      <td>6798.0</td>\n",
       "      <td>15794.0</td>\n",
       "    </tr>\n",
       "  </tbody>\n",
       "</table>\n",
       "</div>"
      ],
      "text/plain": [
       "              Sale                           \n",
       "District      East    North    South     West\n",
       "Date                                         \n",
       "1/29/2018   8140.0   2462.0   6223.0      NaN\n",
       "1/30/2018   6362.0  15266.0   6941.0  11434.0\n",
       "1/31/2018   7058.0  26040.0   9016.0   4987.0\n",
       "2/1/2018   17680.0  17307.0  16925.0  12909.0\n",
       "2/2/2018   14966.0   6706.0   6624.0  11888.0\n",
       "2/3/2018   23177.0  23387.0   6798.0  15794.0"
      ]
     },
     "execution_count": 3,
     "metadata": {},
     "output_type": "execute_result"
    }
   ],
   "source": [
    "districts = districts.unstack()\n",
    "districts"
   ]
  },
  {
   "cell_type": "code",
   "execution_count": 4,
   "metadata": {},
   "outputs": [
    {
     "data": {
      "text/html": [
       "<div>\n",
       "<style>\n",
       "    .dataframe thead tr:only-child th {\n",
       "        text-align: right;\n",
       "    }\n",
       "\n",
       "    .dataframe thead th {\n",
       "        text-align: left;\n",
       "    }\n",
       "\n",
       "    .dataframe tbody tr th {\n",
       "        vertical-align: top;\n",
       "    }\n",
       "</style>\n",
       "<table border=\"1\" class=\"dataframe\">\n",
       "  <thead>\n",
       "    <tr>\n",
       "      <th></th>\n",
       "      <th colspan=\"4\" halign=\"left\">Sale</th>\n",
       "    </tr>\n",
       "    <tr>\n",
       "      <th>District</th>\n",
       "      <th>East</th>\n",
       "      <th>North</th>\n",
       "      <th>South</th>\n",
       "      <th>West</th>\n",
       "    </tr>\n",
       "    <tr>\n",
       "      <th>Date</th>\n",
       "      <th></th>\n",
       "      <th></th>\n",
       "      <th></th>\n",
       "      <th></th>\n",
       "    </tr>\n",
       "  </thead>\n",
       "  <tbody>\n",
       "    <tr>\n",
       "      <th>1/29/2018</th>\n",
       "      <td>8140.0</td>\n",
       "      <td>2462.0</td>\n",
       "      <td>6223.0</td>\n",
       "      <td>0.0</td>\n",
       "    </tr>\n",
       "    <tr>\n",
       "      <th>1/30/2018</th>\n",
       "      <td>6362.0</td>\n",
       "      <td>15266.0</td>\n",
       "      <td>6941.0</td>\n",
       "      <td>11434.0</td>\n",
       "    </tr>\n",
       "    <tr>\n",
       "      <th>1/31/2018</th>\n",
       "      <td>7058.0</td>\n",
       "      <td>26040.0</td>\n",
       "      <td>9016.0</td>\n",
       "      <td>4987.0</td>\n",
       "    </tr>\n",
       "    <tr>\n",
       "      <th>2/1/2018</th>\n",
       "      <td>17680.0</td>\n",
       "      <td>17307.0</td>\n",
       "      <td>16925.0</td>\n",
       "      <td>12909.0</td>\n",
       "    </tr>\n",
       "    <tr>\n",
       "      <th>2/2/2018</th>\n",
       "      <td>14966.0</td>\n",
       "      <td>6706.0</td>\n",
       "      <td>6624.0</td>\n",
       "      <td>11888.0</td>\n",
       "    </tr>\n",
       "    <tr>\n",
       "      <th>2/3/2018</th>\n",
       "      <td>23177.0</td>\n",
       "      <td>23387.0</td>\n",
       "      <td>6798.0</td>\n",
       "      <td>15794.0</td>\n",
       "    </tr>\n",
       "  </tbody>\n",
       "</table>\n",
       "</div>"
      ],
      "text/plain": [
       "              Sale                           \n",
       "District      East    North    South     West\n",
       "Date                                         \n",
       "1/29/2018   8140.0   2462.0   6223.0      0.0\n",
       "1/30/2018   6362.0  15266.0   6941.0  11434.0\n",
       "1/31/2018   7058.0  26040.0   9016.0   4987.0\n",
       "2/1/2018   17680.0  17307.0  16925.0  12909.0\n",
       "2/2/2018   14966.0   6706.0   6624.0  11888.0\n",
       "2/3/2018   23177.0  23387.0   6798.0  15794.0"
      ]
     },
     "execution_count": 4,
     "metadata": {},
     "output_type": "execute_result"
    }
   ],
   "source": [
    "districts = districts.fillna(0)\n",
    "districts"
   ]
  },
  {
   "cell_type": "code",
   "execution_count": 5,
   "metadata": {},
   "outputs": [
    {
     "data": {
      "image/png": "[encoded data removed]",
      "text/plain": [
       "<matplotlib.figure.Figure at 0x7878fb0>"
      ]
     },
     "metadata": {},
     "output_type": "display_data"
    }
   ],
   "source": [
    "%matplotlib inline\n",
    "distPlot = districts.plot(title = 'Sales')"
   ]
  },
  {
   "cell_type": "code",
   "execution_count": 6,
   "metadata": {},
   "outputs": [
    {
     "data": {
      "text/plain": [
       "['East', 'North', 'South', 'West']"
      ]
     },
     "execution_count": 6,
     "metadata": {},
     "output_type": "execute_result"
    }
   ],
   "source": [
    "districtNames = list()\n",
    "for sale, distName in districts.columns.values:\n",
    "    districtNames.append(distName)\n",
    "districtNames"
   ]
  },
  {
   "cell_type": "code",
   "execution_count": 45,
   "metadata": {},
   "outputs": [
    {
     "data": {
      "text/plain": [
       "<matplotlib.legend.Legend at 0x92c0e10>"
      ]
     },
     "execution_count": 45,
     "metadata": {},
     "output_type": "execute_result"
    },
    {
     "data": {
      "image/png": "[encoded data removed]",
      "text/plain": [
       "<matplotlib.figure.Figure at 0x9285cd0>"
      ]
     },
     "metadata": {},
     "output_type": "display_data"
    }
   ],
   "source": [
    "%matplotlib inline\n",
    "distPlot = districts.plot(title = 'Sales')\n",
    "distPlot.legend (labels = districtNames, title = 'Districts', loc = 'upper left')\n",
    "\n"
   ]
  }
 ],
 "metadata": {
  "kernelspec": {
   "display_name": "Python 3",
   "language": "python",
   "name": "python3"
  },
  "language_info": {
   "codemirror_mode": {
    "name": "ipython",
    "version": 3
   },
   "file_extension": ".py",
   "mimetype": "text/x-python",
   "name": "python",
   "nbconvert_exporter": "python",
   "pygments_lexer": "ipython3",
   "version": "3.6.1"
  }
 },
 "nbformat": 4,
 "nbformat_minor": 2
}
